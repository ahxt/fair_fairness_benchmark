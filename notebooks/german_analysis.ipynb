{
 "cells": [
  {
   "cell_type": "code",
   "execution_count": 4,
   "metadata": {},
   "outputs": [],
   "source": [
    "import os\n",
    "import sys\n",
    "sys.path.append(os.path.abspath(os.path.join('..')))\n",
    "\n",
    "from src.dataset import load_adult_data, load_german_data"
   ]
  },
  {
   "cell_type": "code",
   "execution_count": 9,
   "metadata": {},
   "outputs": [
    {
     "name": "stdout",
     "output_type": "stream",
     "text": [
      "    status  month credit_history purpose  credit_amount savings employment  \\\n",
      "0      A11      6            A34     A43           1169     A65        A75   \n",
      "1      A12     48            A32     A43           5951     A61        A73   \n",
      "2      A14     12            A34     A46           2096     A61        A74   \n",
      "3      A11     42            A32     A42           7882     A61        A74   \n",
      "4      A11     24            A33     A40           4870     A61        A73   \n",
      "..     ...    ...            ...     ...            ...     ...        ...   \n",
      "995    A14     12            A32     A42           1736     A61        A74   \n",
      "996    A11     30            A32     A41           3857     A61        A73   \n",
      "997    A14     12            A32     A43            804     A61        A75   \n",
      "998    A11     45            A32     A43           1845     A61        A73   \n",
      "999    A12     45            A34     A41           4576     A62        A71   \n",
      "\n",
      "     investment_as_income_percentage  sex other_debtors  ...  property age  \\\n",
      "0                                  4  A93          A101  ...      A121  67   \n",
      "1                                  2  A92          A101  ...      A121  22   \n",
      "2                                  2  A93          A101  ...      A121  49   \n",
      "3                                  2  A93          A103  ...      A122  45   \n",
      "4                                  3  A93          A101  ...      A124  53   \n",
      "..                               ...  ...           ...  ...       ...  ..   \n",
      "995                                3  A92          A101  ...      A121  31   \n",
      "996                                4  A91          A101  ...      A122  40   \n",
      "997                                4  A93          A101  ...      A123  38   \n",
      "998                                4  A93          A101  ...      A124  23   \n",
      "999                                3  A93          A101  ...      A123  27   \n",
      "\n",
      "     installment_plans housing number_of_credits  skill_level  \\\n",
      "0                 A143    A152                 2         A173   \n",
      "1                 A143    A152                 1         A173   \n",
      "2                 A143    A152                 1         A172   \n",
      "3                 A143    A153                 1         A173   \n",
      "4                 A143    A153                 2         A173   \n",
      "..                 ...     ...               ...          ...   \n",
      "995               A143    A152                 1         A172   \n",
      "996               A143    A152                 1         A174   \n",
      "997               A143    A152                 1         A173   \n",
      "998               A143    A153                 1         A173   \n",
      "999               A143    A152                 1         A173   \n",
      "\n",
      "    people_liable_for  telephone foreign_worker credit  \n",
      "0                   1       A192           A201      1  \n",
      "1                   1       A191           A201      2  \n",
      "2                   2       A191           A201      1  \n",
      "3                   2       A191           A201      1  \n",
      "4                   2       A191           A201      2  \n",
      "..                ...        ...            ...    ...  \n",
      "995                 1       A191           A201      1  \n",
      "996                 1       A192           A201      1  \n",
      "997                 1       A191           A201      1  \n",
      "998                 1       A192           A201      2  \n",
      "999                 1       A191           A201      1  \n",
      "\n",
      "[1000 rows x 21 columns]\n"
     ]
    }
   ],
   "source": [
    "X, y, s = load_german_data( path= \"../datasets/german/raw\", sensitive_attribute=\"sex\" )"
   ]
  },
  {
   "cell_type": "code",
   "execution_count": 10,
   "metadata": {},
   "outputs": [
    {
     "data": {
      "text/plain": [
       "month                              int64\n",
       "credit_amount                      int64\n",
       "investment_as_income_percentage    int64\n",
       "residence_since                    int64\n",
       "number_of_credits                  int64\n",
       "people_liable_for                  int64\n",
       "status_A11                         uint8\n",
       "status_A12                         uint8\n",
       "status_A13                         uint8\n",
       "status_A14                         uint8\n",
       "credit_history_A30                 uint8\n",
       "credit_history_A31                 uint8\n",
       "credit_history_A32                 uint8\n",
       "credit_history_A33                 uint8\n",
       "credit_history_A34                 uint8\n",
       "purpose_A40                        uint8\n",
       "purpose_A41                        uint8\n",
       "purpose_A410                       uint8\n",
       "purpose_A42                        uint8\n",
       "purpose_A43                        uint8\n",
       "purpose_A44                        uint8\n",
       "purpose_A45                        uint8\n",
       "purpose_A46                        uint8\n",
       "purpose_A48                        uint8\n",
       "purpose_A49                        uint8\n",
       "savings_A61                        uint8\n",
       "savings_A62                        uint8\n",
       "savings_A63                        uint8\n",
       "savings_A64                        uint8\n",
       "savings_A65                        uint8\n",
       "employment_A71                     uint8\n",
       "employment_A72                     uint8\n",
       "employment_A73                     uint8\n",
       "employment_A74                     uint8\n",
       "employment_A75                     uint8\n",
       "other_debtors_A101                 uint8\n",
       "other_debtors_A102                 uint8\n",
       "other_debtors_A103                 uint8\n",
       "property_A121                      uint8\n",
       "property_A122                      uint8\n",
       "property_A123                      uint8\n",
       "property_A124                      uint8\n",
       "installment_plans_A141             uint8\n",
       "installment_plans_A142             uint8\n",
       "installment_plans_A143             uint8\n",
       "housing_A151                       uint8\n",
       "housing_A152                       uint8\n",
       "housing_A153                       uint8\n",
       "skill_level_A171                   uint8\n",
       "skill_level_A172                   uint8\n",
       "skill_level_A173                   uint8\n",
       "skill_level_A174                   uint8\n",
       "telephone_A191                     uint8\n",
       "telephone_A192                     uint8\n",
       "foreign_worker_A201                uint8\n",
       "foreign_worker_A202                uint8\n",
       "age_x<=25                          uint8\n",
       "age_x>25                           uint8\n",
       "dtype: object"
      ]
     },
     "execution_count": 10,
     "metadata": {},
     "output_type": "execute_result"
    }
   ],
   "source": [
    "X.dtypes"
   ]
  },
  {
   "cell_type": "code",
   "execution_count": 12,
   "metadata": {},
   "outputs": [],
   "source": [
    "s"
   ]
  },
  {
   "cell_type": "code",
   "execution_count": null,
   "metadata": {},
   "outputs": [],
   "source": []
  }
 ],
 "metadata": {
  "kernelspec": {
   "display_name": "Python 3",
   "language": "python",
   "name": "python3"
  },
  "language_info": {
   "codemirror_mode": {
    "name": "ipython",
    "version": 3
   },
   "file_extension": ".py",
   "mimetype": "text/x-python",
   "name": "python",
   "nbconvert_exporter": "python",
   "pygments_lexer": "ipython3",
   "version": "3.7.11"
  },
  "orig_nbformat": 4
 },
 "nbformat": 4,
 "nbformat_minor": 2
}
